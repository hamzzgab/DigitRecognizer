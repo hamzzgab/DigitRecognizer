{
 "cells": [
  {
   "cell_type": "code",
   "execution_count": 1,
   "id": "a50332e0",
   "metadata": {
    "execution": {
     "iopub.execute_input": "2023-06-26T12:38:32.040721Z",
     "iopub.status.busy": "2023-06-26T12:38:32.039822Z",
     "iopub.status.idle": "2023-06-26T12:38:47.579557Z",
     "shell.execute_reply": "2023-06-26T12:38:47.578546Z"
    },
    "papermill": {
     "duration": 15.549484,
     "end_time": "2023-06-26T12:38:47.582084",
     "exception": false,
     "start_time": "2023-06-26T12:38:32.032600",
     "status": "completed"
    },
    "tags": []
   },
   "outputs": [
    {
     "name": "stderr",
     "output_type": "stream",
     "text": [
      "/opt/conda/lib/python3.10/site-packages/tensorflow_io/python/ops/__init__.py:98: UserWarning: unable to load libtensorflow_io_plugins.so: unable to open file: libtensorflow_io_plugins.so, from paths: ['/opt/conda/lib/python3.10/site-packages/tensorflow_io/python/ops/libtensorflow_io_plugins.so']\n",
      "caused by: ['/opt/conda/lib/python3.10/site-packages/tensorflow_io/python/ops/libtensorflow_io_plugins.so: undefined symbol: _ZN3tsl6StatusC1EN10tensorflow5error4CodeESt17basic_string_viewIcSt11char_traitsIcEENS_14SourceLocationE']\n",
      "  warnings.warn(f\"unable to load libtensorflow_io_plugins.so: {e}\")\n",
      "/opt/conda/lib/python3.10/site-packages/tensorflow_io/python/ops/__init__.py:104: UserWarning: file system plugins are not loaded: unable to open file: libtensorflow_io.so, from paths: ['/opt/conda/lib/python3.10/site-packages/tensorflow_io/python/ops/libtensorflow_io.so']\n",
      "caused by: ['/opt/conda/lib/python3.10/site-packages/tensorflow_io/python/ops/libtensorflow_io.so: undefined symbol: _ZTVN10tensorflow13GcsFileSystemE']\n",
      "  warnings.warn(f\"file system plugins are not loaded: {e}\")\n"
     ]
    }
   ],
   "source": [
    "import math\n",
    "import pandas as pd\n",
    "import numpy as np\n",
    "\n",
    "from pathlib import Path\n",
    "\n",
    "import matplotlib.pyplot as plt\n",
    "\n",
    "import keras\n",
    "import tensorflow as tf"
   ]
  },
  {
   "cell_type": "code",
   "execution_count": 2,
   "id": "962e30cb",
   "metadata": {
    "execution": {
     "iopub.execute_input": "2023-06-26T12:38:47.594577Z",
     "iopub.status.busy": "2023-06-26T12:38:47.593897Z",
     "iopub.status.idle": "2023-06-26T12:38:47.599364Z",
     "shell.execute_reply": "2023-06-26T12:38:47.598302Z"
    },
    "papermill": {
     "duration": 0.01416,
     "end_time": "2023-06-26T12:38:47.601650",
     "exception": false,
     "start_time": "2023-06-26T12:38:47.587490",
     "status": "completed"
    },
    "tags": []
   },
   "outputs": [],
   "source": [
    "cwd = Path('/kaggle/input')\n",
    "DATASET = cwd / Path('digit-recognizer')"
   ]
  },
  {
   "cell_type": "code",
   "execution_count": 3,
   "id": "c1e3c23e",
   "metadata": {
    "execution": {
     "iopub.execute_input": "2023-06-26T12:38:47.614260Z",
     "iopub.status.busy": "2023-06-26T12:38:47.613371Z",
     "iopub.status.idle": "2023-06-26T12:38:54.224785Z",
     "shell.execute_reply": "2023-06-26T12:38:54.222446Z"
    },
    "papermill": {
     "duration": 6.620452,
     "end_time": "2023-06-26T12:38:54.227295",
     "exception": false,
     "start_time": "2023-06-26T12:38:47.606843",
     "status": "completed"
    },
    "tags": []
   },
   "outputs": [
    {
     "name": "stdout",
     "output_type": "stream",
     "text": [
      "----------DATA-READ----------\n",
      "X Train: (42000, 28, 28, 1)\n",
      "X Test:  (28000, 28, 28, 1)\n",
      "-----------------------------\n",
      "Max Val: 255\n",
      "Min Val: 0\n",
      "----------NORMALISED---------\n",
      "Max Val: 1.0\n",
      "Min Val: 0.0\n"
     ]
    }
   ],
   "source": [
    "train_df = pd.read_csv(str(DATASET) + '/train.csv')\n",
    "test_df = pd.read_csv(str(DATASET) + '/test.csv')\n",
    "test_df_answers = pd.read_csv(str(DATASET) + '/sample_submission.csv')\n",
    "\n",
    "X_train, y_train = train_df.iloc[:, 1:], train_df.iloc[:, 0]\n",
    "X_test = test_df\n",
    "\n",
    "X_train = np.array(X_train).reshape(len(X_train), 28, 28, 1)\n",
    "X_test = np.array(X_test).reshape(len(X_test), 28, 28, 1)\n",
    "\n",
    "print(\"-\"*10+\"DATA-READ\"+\"-\"*10)\n",
    "print(\"X Train: {}\\nX Test:  {}\".format(X_train.shape, X_test.shape))\n",
    "\n",
    "print(\"-\"*29)\n",
    "print(\"Max Val: {}\\nMin Val: {}\".format(X_train.max(), X_train.min()))\n",
    "\n",
    "X_train = X_train.astype('float32') / 255.0\n",
    "X_test = X_test.astype('float32') / 255.0\n",
    "\n",
    "print(\"-\"*10+\"NORMALISED\"+\"-\"*9)\n",
    "print(\"Max Val: {}\\nMin Val: {}\".format(X_train.max(), X_train.min()))\n",
    "\n",
    "\n",
    "y_train = keras.utils.to_categorical(y_train, num_classes=10)"
   ]
  },
  {
   "cell_type": "code",
   "execution_count": 4,
   "id": "ba3932d7",
   "metadata": {
    "execution": {
     "iopub.execute_input": "2023-06-26T12:38:54.239517Z",
     "iopub.status.busy": "2023-06-26T12:38:54.238870Z",
     "iopub.status.idle": "2023-06-26T12:38:54.545094Z",
     "shell.execute_reply": "2023-06-26T12:38:54.544085Z"
    },
    "papermill": {
     "duration": 0.314942,
     "end_time": "2023-06-26T12:38:54.547656",
     "exception": false,
     "start_time": "2023-06-26T12:38:54.232714",
     "status": "completed"
    },
    "tags": []
   },
   "outputs": [
    {
     "data": {
      "image/png": "[encoded data removed]",
      "text/plain": [
       "<Figure size 640x480 with 1 Axes>"
      ]
     },
     "metadata": {},
     "output_type": "display_data"
    }
   ],
   "source": [
    "idx = np.random.randint(0, X_train.shape[0])\n",
    "plt.imshow(X_train[idx], cmap='gray_r')\n",
    "plt.title(np.argmax(y_train[idx]), fontsize=18)\n",
    "plt.show();"
   ]
  },
  {
   "cell_type": "code",
   "execution_count": 5,
   "id": "c8ca6fd4",
   "metadata": {
    "execution": {
     "iopub.execute_input": "2023-06-26T12:38:54.560203Z",
     "iopub.status.busy": "2023-06-26T12:38:54.559879Z",
     "iopub.status.idle": "2023-06-26T12:38:54.572373Z",
     "shell.execute_reply": "2023-06-26T12:38:54.571385Z"
    },
    "papermill": {
     "duration": 0.021111,
     "end_time": "2023-06-26T12:38:54.574481",
     "exception": false,
     "start_time": "2023-06-26T12:38:54.553370",
     "status": "completed"
    },
    "tags": []
   },
   "outputs": [],
   "source": [
    "def conv_layer():\n",
    "    model = keras.models.Sequential([\n",
    "        keras.layers.Conv2D(filters=32, kernel_size=3, activation='relu', padding='same',\n",
    "                            input_shape=input_shape),\n",
    "        keras.layers.Conv2D(filters=32, kernel_size=3, activation='relu', padding='same'),\n",
    "        keras.layers.MaxPooling2D(pool_size=2),\n",
    "        keras.layers.BatchNormalization(axis=-1),\n",
    "        keras.layers.Dropout(0.1),\n",
    "\n",
    "        keras.layers.Conv2D(filters=64, kernel_size=3, activation='relu', padding='same'),\n",
    "        keras.layers.Conv2D(filters=64, kernel_size=3, activation='relu', padding='same'),\n",
    "        keras.layers.MaxPooling2D(pool_size=2),\n",
    "        keras.layers.BatchNormalization(axis=-1),\n",
    "        keras.layers.Dropout(0.1),\n",
    "\n",
    "        keras.layers.Conv2D(filters=128, kernel_size=3, activation='relu', padding='same'),\n",
    "        keras.layers.Conv2D(filters=128, kernel_size=3, activation='relu', padding='same'),\n",
    "        keras.layers.MaxPooling2D(pool_size=2),\n",
    "        keras.layers.BatchNormalization(axis=-1),\n",
    "        keras.layers.Dropout(0.1),\n",
    "\n",
    "        keras.layers.Conv2D(filters=256, kernel_size=3, activation='relu', padding='same'),\n",
    "        keras.layers.Conv2D(filters=256, kernel_size=3, activation='relu', padding='same'),\n",
    "        keras.layers.MaxPooling2D(pool_size=2),\n",
    "        keras.layers.BatchNormalization(axis=-1),\n",
    "        keras.layers.Dropout(0.1),\n",
    "\n",
    "        keras.layers.Flatten(),\n",
    "        keras.layers.Dense(512, activation='relu'),\n",
    "        keras.layers.BatchNormalization(axis=-1),\n",
    "        keras.layers.Dropout(0.25),        \n",
    "        \n",
    "        keras.layers.Dense(128, activation='relu'),\n",
    "        keras.layers.BatchNormalization(axis=-1),\n",
    "        keras.layers.Dropout(0.5),\n",
    "        \n",
    "        keras.layers.Dense(10, activation='softmax'),        \n",
    "    ])\n",
    "    return model"
   ]
  },
  {
   "cell_type": "code",
   "execution_count": 6,
   "id": "f8e51849",
   "metadata": {
    "execution": {
     "iopub.execute_input": "2023-06-26T12:38:54.586382Z",
     "iopub.status.busy": "2023-06-26T12:38:54.585770Z",
     "iopub.status.idle": "2023-06-26T12:39:00.886423Z",
     "shell.execute_reply": "2023-06-26T12:39:00.885384Z"
    },
    "papermill": {
     "duration": 6.309381,
     "end_time": "2023-06-26T12:39:00.888960",
     "exception": false,
     "start_time": "2023-06-26T12:38:54.579579",
     "status": "completed"
    },
    "tags": []
   },
   "outputs": [],
   "source": [
    "input_shape = (28, 28, 1)\n",
    "model = conv_layer()"
   ]
  },
  {
   "cell_type": "code",
   "execution_count": 7,
   "id": "161e2d8d",
   "metadata": {
    "execution": {
     "iopub.execute_input": "2023-06-26T12:39:00.901517Z",
     "iopub.status.busy": "2023-06-26T12:39:00.900858Z",
     "iopub.status.idle": "2023-06-26T12:39:00.918731Z",
     "shell.execute_reply": "2023-06-26T12:39:00.917750Z"
    },
    "papermill": {
     "duration": 0.026941,
     "end_time": "2023-06-26T12:39:00.921387",
     "exception": false,
     "start_time": "2023-06-26T12:39:00.894446",
     "status": "completed"
    },
    "tags": []
   },
   "outputs": [],
   "source": [
    "model.compile(optimizer=keras.optimizers.Adam(learning_rate=0.001), \n",
    "              loss='categorical_crossentropy', \n",
    "              metrics=['accuracy'])"
   ]
  },
  {
   "cell_type": "code",
   "execution_count": 8,
   "id": "23f1411b",
   "metadata": {
    "execution": {
     "iopub.execute_input": "2023-06-26T12:39:00.933123Z",
     "iopub.status.busy": "2023-06-26T12:39:00.932804Z",
     "iopub.status.idle": "2023-06-26T12:39:00.937652Z",
     "shell.execute_reply": "2023-06-26T12:39:00.936625Z"
    },
    "papermill": {
     "duration": 0.013195,
     "end_time": "2023-06-26T12:39:00.939876",
     "exception": false,
     "start_time": "2023-06-26T12:39:00.926681",
     "status": "completed"
    },
    "tags": []
   },
   "outputs": [],
   "source": [
    "def cosine_annealing(epoch, initial_lr, total_epochs):\n",
    "    lr = 0.5 * initial_lr * (1 + math.cos(math.pi * epoch / total_epochs))\n",
    "    return lr"
   ]
  },
  {
   "cell_type": "code",
   "execution_count": 9,
   "id": "a011cab4",
   "metadata": {
    "execution": {
     "iopub.execute_input": "2023-06-26T12:39:00.951208Z",
     "iopub.status.busy": "2023-06-26T12:39:00.950918Z",
     "iopub.status.idle": "2023-06-26T12:39:00.955628Z",
     "shell.execute_reply": "2023-06-26T12:39:00.954750Z"
    },
    "papermill": {
     "duration": 0.012773,
     "end_time": "2023-06-26T12:39:00.957713",
     "exception": false,
     "start_time": "2023-06-26T12:39:00.944940",
     "status": "completed"
    },
    "tags": []
   },
   "outputs": [],
   "source": [
    "epochs = 50\n",
    "learning_rate = 0.001\n",
    "reduce_lr = keras.callbacks.LearningRateScheduler(lambda epoch: cosine_annealing(epoch, learning_rate, epochs))\n",
    "# early_stop = keras.callbacks.EarlyStopping(monitor='accuracy', patience=3, verbose=1)"
   ]
  },
  {
   "cell_type": "code",
   "execution_count": 10,
   "id": "a90b78f1",
   "metadata": {
    "execution": {
     "iopub.execute_input": "2023-06-26T12:39:00.969939Z",
     "iopub.status.busy": "2023-06-26T12:39:00.969650Z",
     "iopub.status.idle": "2023-06-26T12:39:01.968313Z",
     "shell.execute_reply": "2023-06-26T12:39:01.966936Z"
    },
    "papermill": {
     "duration": 1.008542,
     "end_time": "2023-06-26T12:39:01.971469",
     "exception": false,
     "start_time": "2023-06-26T12:39:00.962927",
     "status": "completed"
    },
    "tags": []
   },
   "outputs": [],
   "source": [
    "datagen = tf.keras.preprocessing.image.ImageDataGenerator(featurewise_center=True,\n",
    "                                                       featurewise_std_normalization=True,\n",
    "                                                       rotation_range=20,\n",
    "                                                       width_shift_range=0.2,\n",
    "                                                       height_shift_range=0.2,\n",
    "                                                       shear_range=0.1,\n",
    "                                                       zoom_range=0.2,\n",
    "                                                       validation_split=0.2)\n",
    "\n",
    "datagen.fit(X_train)"
   ]
  },
  {
   "cell_type": "code",
   "execution_count": 11,
   "id": "1fcd03ce",
   "metadata": {
    "execution": {
     "iopub.execute_input": "2023-06-26T12:39:01.985934Z",
     "iopub.status.busy": "2023-06-26T12:39:01.985565Z",
     "iopub.status.idle": "2023-06-26T13:05:41.741368Z",
     "shell.execute_reply": "2023-06-26T13:05:41.740268Z"
    },
    "papermill": {
     "duration": 1599.7656,
     "end_time": "2023-06-26T13:05:41.743693",
     "exception": false,
     "start_time": "2023-06-26T12:39:01.978093",
     "status": "completed"
    },
    "tags": []
   },
   "outputs": [
    {
     "name": "stdout",
     "output_type": "stream",
     "text": [
      "Epoch 1/50\n"
     ]
    },
    {
     "name": "stderr",
     "output_type": "stream",
     "text": [
      "2023-06-26 12:39:03.731439: E tensorflow/core/grappler/optimizers/meta_optimizer.cc:954] layout failed: INVALID_ARGUMENT: Size of values 0 does not match size of permutation 4 @ fanin shape insequential/dropout/dropout/SelectV2-2-TransposeNHWCToNCHW-LayoutOptimizer\n"
     ]
    },
    {
     "name": "stdout",
     "output_type": "stream",
     "text": [
      "525/525 [==============================] - 42s 53ms/step - loss: 0.6012 - accuracy: 0.8189 - val_loss: 1.0121 - val_accuracy: 0.7360 - lr: 0.0010\n",
      "Epoch 2/50\n",
      "525/525 [==============================] - 31s 60ms/step - loss: 0.1740 - accuracy: 0.9511 - val_loss: 0.1579 - val_accuracy: 0.9517 - lr: 9.9901e-04\n",
      "Epoch 3/50\n",
      "525/525 [==============================] - 31s 60ms/step - loss: 0.1269 - accuracy: 0.9628 - val_loss: 0.1127 - val_accuracy: 0.9674 - lr: 9.9606e-04\n",
      "Epoch 4/50\n",
      "525/525 [==============================] - 31s 59ms/step - loss: 0.1122 - accuracy: 0.9686 - val_loss: 0.0822 - val_accuracy: 0.9751 - lr: 9.9114e-04\n",
      "Epoch 5/50\n",
      "525/525 [==============================] - 31s 59ms/step - loss: 0.0985 - accuracy: 0.9720 - val_loss: 0.1021 - val_accuracy: 0.9719 - lr: 9.8429e-04\n",
      "Epoch 6/50\n",
      "525/525 [==============================] - 28s 52ms/step - loss: 0.0875 - accuracy: 0.9761 - val_loss: 0.0821 - val_accuracy: 0.9757 - lr: 9.7553e-04\n",
      "Epoch 7/50\n",
      "525/525 [==============================] - 30s 57ms/step - loss: 0.0862 - accuracy: 0.9752 - val_loss: 0.0692 - val_accuracy: 0.9795 - lr: 9.6489e-04\n",
      "Epoch 8/50\n",
      "525/525 [==============================] - 28s 53ms/step - loss: 0.0805 - accuracy: 0.9774 - val_loss: 0.1040 - val_accuracy: 0.9706 - lr: 9.5241e-04\n",
      "Epoch 9/50\n",
      "525/525 [==============================] - 27s 52ms/step - loss: 0.0735 - accuracy: 0.9784 - val_loss: 0.0581 - val_accuracy: 0.9823 - lr: 9.3815e-04\n",
      "Epoch 10/50\n",
      "525/525 [==============================] - 27s 52ms/step - loss: 0.0752 - accuracy: 0.9797 - val_loss: 0.0580 - val_accuracy: 0.9836 - lr: 9.2216e-04\n",
      "Epoch 11/50\n",
      "525/525 [==============================] - 27s 50ms/step - loss: 0.0669 - accuracy: 0.9819 - val_loss: 0.0743 - val_accuracy: 0.9787 - lr: 9.0451e-04\n",
      "Epoch 12/50\n",
      "525/525 [==============================] - 29s 56ms/step - loss: 0.0643 - accuracy: 0.9822 - val_loss: 0.0581 - val_accuracy: 0.9836 - lr: 8.8526e-04\n",
      "Epoch 13/50\n",
      "525/525 [==============================] - 27s 51ms/step - loss: 0.0597 - accuracy: 0.9829 - val_loss: 0.0827 - val_accuracy: 0.9751 - lr: 8.6448e-04\n",
      "Epoch 14/50\n",
      "525/525 [==============================] - 29s 55ms/step - loss: 0.0590 - accuracy: 0.9837 - val_loss: 0.0673 - val_accuracy: 0.9808 - lr: 8.4227e-04\n",
      "Epoch 15/50\n",
      "525/525 [==============================] - 26s 49ms/step - loss: 0.0564 - accuracy: 0.9846 - val_loss: 0.0548 - val_accuracy: 0.9850 - lr: 8.1871e-04\n",
      "Epoch 16/50\n",
      "525/525 [==============================] - 28s 54ms/step - loss: 0.0553 - accuracy: 0.9842 - val_loss: 0.0471 - val_accuracy: 0.9875 - lr: 7.9389e-04\n",
      "Epoch 17/50\n",
      "525/525 [==============================] - 29s 54ms/step - loss: 0.0529 - accuracy: 0.9852 - val_loss: 0.0447 - val_accuracy: 0.9867 - lr: 7.6791e-04\n",
      "Epoch 18/50\n",
      "525/525 [==============================] - 25s 48ms/step - loss: 0.0495 - accuracy: 0.9870 - val_loss: 0.0638 - val_accuracy: 0.9824 - lr: 7.4088e-04\n",
      "Epoch 19/50\n",
      "525/525 [==============================] - 25s 47ms/step - loss: 0.0464 - accuracy: 0.9873 - val_loss: 0.0478 - val_accuracy: 0.9864 - lr: 7.1289e-04\n",
      "Epoch 20/50\n",
      "525/525 [==============================] - 29s 55ms/step - loss: 0.0434 - accuracy: 0.9879 - val_loss: 0.0321 - val_accuracy: 0.9900 - lr: 6.8406e-04\n",
      "Epoch 21/50\n",
      "525/525 [==============================] - 26s 49ms/step - loss: 0.0400 - accuracy: 0.9887 - val_loss: 0.0428 - val_accuracy: 0.9881 - lr: 6.5451e-04\n",
      "Epoch 22/50\n",
      "525/525 [==============================] - 29s 56ms/step - loss: 0.0395 - accuracy: 0.9894 - val_loss: 0.0435 - val_accuracy: 0.9877 - lr: 6.2434e-04\n",
      "Epoch 23/50\n",
      "525/525 [==============================] - 29s 55ms/step - loss: 0.0412 - accuracy: 0.9887 - val_loss: 0.0397 - val_accuracy: 0.9890 - lr: 5.9369e-04\n",
      "Epoch 24/50\n",
      "525/525 [==============================] - 29s 55ms/step - loss: 0.0369 - accuracy: 0.9900 - val_loss: 0.0412 - val_accuracy: 0.9879 - lr: 5.6267e-04\n",
      "Epoch 25/50\n",
      "525/525 [==============================] - 26s 50ms/step - loss: 0.0363 - accuracy: 0.9895 - val_loss: 0.0385 - val_accuracy: 0.9893 - lr: 5.3140e-04\n",
      "Epoch 26/50\n",
      "525/525 [==============================] - 30s 57ms/step - loss: 0.0328 - accuracy: 0.9913 - val_loss: 0.0411 - val_accuracy: 0.9888 - lr: 5.0000e-04\n",
      "Epoch 27/50\n",
      "525/525 [==============================] - 30s 57ms/step - loss: 0.0331 - accuracy: 0.9913 - val_loss: 0.0309 - val_accuracy: 0.9898 - lr: 4.6860e-04\n",
      "Epoch 28/50\n",
      "525/525 [==============================] - 26s 49ms/step - loss: 0.0305 - accuracy: 0.9917 - val_loss: 0.0271 - val_accuracy: 0.9917 - lr: 4.3733e-04\n",
      "Epoch 29/50\n",
      "525/525 [==============================] - 29s 55ms/step - loss: 0.0272 - accuracy: 0.9930 - val_loss: 0.0340 - val_accuracy: 0.9913 - lr: 4.0631e-04\n",
      "Epoch 30/50\n",
      "525/525 [==============================] - 29s 55ms/step - loss: 0.0283 - accuracy: 0.9922 - val_loss: 0.0334 - val_accuracy: 0.9908 - lr: 3.7566e-04\n",
      "Epoch 31/50\n",
      "525/525 [==============================] - 25s 48ms/step - loss: 0.0286 - accuracy: 0.9923 - val_loss: 0.0253 - val_accuracy: 0.9923 - lr: 3.4549e-04\n",
      "Epoch 32/50\n",
      "525/525 [==============================] - 29s 55ms/step - loss: 0.0264 - accuracy: 0.9927 - val_loss: 0.0289 - val_accuracy: 0.9923 - lr: 3.1594e-04\n",
      "Epoch 33/50\n",
      "525/525 [==============================] - 30s 57ms/step - loss: 0.0250 - accuracy: 0.9929 - val_loss: 0.0323 - val_accuracy: 0.9913 - lr: 2.8711e-04\n",
      "Epoch 34/50\n",
      "525/525 [==============================] - 27s 51ms/step - loss: 0.0229 - accuracy: 0.9940 - val_loss: 0.0248 - val_accuracy: 0.9938 - lr: 2.5912e-04\n",
      "Epoch 35/50\n",
      "525/525 [==============================] - 26s 50ms/step - loss: 0.0215 - accuracy: 0.9940 - val_loss: 0.0214 - val_accuracy: 0.9938 - lr: 2.3209e-04\n",
      "Epoch 36/50\n",
      "525/525 [==============================] - 26s 50ms/step - loss: 0.0197 - accuracy: 0.9946 - val_loss: 0.0272 - val_accuracy: 0.9921 - lr: 2.0611e-04\n",
      "Epoch 37/50\n",
      "525/525 [==============================] - 25s 48ms/step - loss: 0.0187 - accuracy: 0.9950 - val_loss: 0.0239 - val_accuracy: 0.9932 - lr: 1.8129e-04\n",
      "Epoch 38/50\n",
      "525/525 [==============================] - 26s 50ms/step - loss: 0.0206 - accuracy: 0.9945 - val_loss: 0.0224 - val_accuracy: 0.9937 - lr: 1.5773e-04\n",
      "Epoch 39/50\n",
      "525/525 [==============================] - 25s 49ms/step - loss: 0.0199 - accuracy: 0.9953 - val_loss: 0.0216 - val_accuracy: 0.9946 - lr: 1.3552e-04\n",
      "Epoch 40/50\n",
      "525/525 [==============================] - 29s 55ms/step - loss: 0.0172 - accuracy: 0.9951 - val_loss: 0.0252 - val_accuracy: 0.9936 - lr: 1.1474e-04\n",
      "Epoch 41/50\n",
      "525/525 [==============================] - 30s 56ms/step - loss: 0.0178 - accuracy: 0.9951 - val_loss: 0.0212 - val_accuracy: 0.9949 - lr: 9.5492e-05\n",
      "Epoch 42/50\n",
      "525/525 [==============================] - 29s 55ms/step - loss: 0.0175 - accuracy: 0.9953 - val_loss: 0.0216 - val_accuracy: 0.9949 - lr: 7.7836e-05\n",
      "Epoch 43/50\n",
      "525/525 [==============================] - 30s 56ms/step - loss: 0.0159 - accuracy: 0.9958 - val_loss: 0.0229 - val_accuracy: 0.9939 - lr: 6.1847e-05\n",
      "Epoch 44/50\n",
      "525/525 [==============================] - 29s 56ms/step - loss: 0.0160 - accuracy: 0.9955 - val_loss: 0.0217 - val_accuracy: 0.9942 - lr: 4.7586e-05\n",
      "Epoch 45/50\n",
      "525/525 [==============================] - 25s 49ms/step - loss: 0.0144 - accuracy: 0.9963 - val_loss: 0.0243 - val_accuracy: 0.9932 - lr: 3.5112e-05\n",
      "Epoch 46/50\n",
      "525/525 [==============================] - 26s 49ms/step - loss: 0.0167 - accuracy: 0.9958 - val_loss: 0.0207 - val_accuracy: 0.9949 - lr: 2.4472e-05\n",
      "Epoch 47/50\n",
      "525/525 [==============================] - 28s 53ms/step - loss: 0.0142 - accuracy: 0.9964 - val_loss: 0.0218 - val_accuracy: 0.9944 - lr: 1.5708e-05\n",
      "Epoch 48/50\n",
      "525/525 [==============================] - 28s 54ms/step - loss: 0.0128 - accuracy: 0.9963 - val_loss: 0.0233 - val_accuracy: 0.9946 - lr: 8.8564e-06\n",
      "Epoch 49/50\n",
      "525/525 [==============================] - 28s 54ms/step - loss: 0.0139 - accuracy: 0.9961 - val_loss: 0.0241 - val_accuracy: 0.9940 - lr: 3.9426e-06\n",
      "Epoch 50/50\n",
      "525/525 [==============================] - 29s 56ms/step - loss: 0.0156 - accuracy: 0.9959 - val_loss: 0.0211 - val_accuracy: 0.9943 - lr: 9.8664e-07\n"
     ]
    }
   ],
   "source": [
    "history = model.fit(datagen.flow(X_train, y_train, \n",
    "                                 batch_size=64, subset='training'),\n",
    "                    validation_data=datagen.flow(X_train, y_train,\n",
    "                                                 batch_size=8, subset='validation'),\n",
    "                    epochs=epochs,\n",
    "                    callbacks=[reduce_lr], verbose=1)"
   ]
  },
  {
   "cell_type": "code",
   "execution_count": 12,
   "id": "52c93ae0",
   "metadata": {
    "execution": {
     "iopub.execute_input": "2023-06-26T13:05:43.942021Z",
     "iopub.status.busy": "2023-06-26T13:05:43.941658Z",
     "iopub.status.idle": "2023-06-26T13:05:44.468238Z",
     "shell.execute_reply": "2023-06-26T13:05:44.467269Z"
    },
    "papermill": {
     "duration": 1.655641,
     "end_time": "2023-06-26T13:05:44.470511",
     "exception": false,
     "start_time": "2023-06-26T13:05:42.814870",
     "status": "completed"
    },
    "tags": []
   },
   "outputs": [
    {
     "data": {
      "image/png": "[encoded data removed]",
      "text/plain": [
       "<Figure size 1000x800 with 3 Axes>"
      ]
     },
     "metadata": {},
     "output_type": "display_data"
    }
   ],
   "source": [
    "fig, axes = plt.subplots(3, 1, figsize=(10, 8))\n",
    "\n",
    "axes[0].plot(history.history['loss'])\n",
    "axes[1].plot(history.history['accuracy'])\n",
    "axes[2].plot(history.history['lr'])\n",
    "\n",
    "plt.show();"
   ]
  },
  {
   "cell_type": "code",
   "execution_count": 13,
   "id": "92fe9f50",
   "metadata": {
    "execution": {
     "iopub.execute_input": "2023-06-26T13:05:47.068424Z",
     "iopub.status.busy": "2023-06-26T13:05:47.068005Z",
     "iopub.status.idle": "2023-06-26T13:05:50.933165Z",
     "shell.execute_reply": "2023-06-26T13:05:50.932131Z"
    },
    "papermill": {
     "duration": 5.395705,
     "end_time": "2023-06-26T13:05:50.936020",
     "exception": false,
     "start_time": "2023-06-26T13:05:45.540315",
     "status": "completed"
    },
    "tags": []
   },
   "outputs": [
    {
     "name": "stdout",
     "output_type": "stream",
     "text": [
      "875/875 [==============================] - 3s 3ms/step\n"
     ]
    }
   ],
   "source": [
    "result = model.predict(X_test, verbose=1)\n",
    "result = result.argmax(axis=1)"
   ]
  },
  {
   "cell_type": "code",
   "execution_count": 14,
   "id": "67b0f0c8",
   "metadata": {
    "execution": {
     "iopub.execute_input": "2023-06-26T13:05:53.221621Z",
     "iopub.status.busy": "2023-06-26T13:05:53.221253Z",
     "iopub.status.idle": "2023-06-26T13:05:53.325632Z",
     "shell.execute_reply": "2023-06-26T13:05:53.324590Z"
    },
    "papermill": {
     "duration": 1.242928,
     "end_time": "2023-06-26T13:05:53.328068",
     "exception": false,
     "start_time": "2023-06-26T13:05:52.085140",
     "status": "completed"
    },
    "tags": []
   },
   "outputs": [],
   "source": [
    "ans = {\n",
    "    'Label':[int(x) for x in result]\n",
    "}\n",
    "ans=pd.DataFrame(ans)\n",
    "\n",
    "ImageId = {\n",
    "    'ImageId': [i for i in range(1,28001)]\n",
    "}\n",
    "ImageId = pd.DataFrame(data=ImageId)\n",
    "\n",
    "submission=pd.concat((ImageId, ans),axis=1)\n",
    "submission.to_csv('submission.csv',index=False)"
   ]
  },
  {
   "cell_type": "code",
   "execution_count": null,
   "id": "a5218f97",
   "metadata": {
    "papermill": {
     "duration": 1.134906,
     "end_time": "2023-06-26T13:05:55.544261",
     "exception": false,
     "start_time": "2023-06-26T13:05:54.409355",
     "status": "completed"
    },
    "tags": []
   },
   "outputs": [],
   "source": []
  },
  {
   "cell_type": "code",
   "execution_count": null,
   "id": "b30ed4d6",
   "metadata": {
    "papermill": {
     "duration": 1.073342,
     "end_time": "2023-06-26T13:05:57.716531",
     "exception": false,
     "start_time": "2023-06-26T13:05:56.643189",
     "status": "completed"
    },
    "tags": []
   },
   "outputs": [],
   "source": []
  }
 ],
 "metadata": {
  "kernelspec": {
   "display_name": "Python 3",
   "language": "python",
   "name": "python3"
  },
  "language_info": {
   "codemirror_mode": {
    "name": "ipython",
    "version": 3
   },
   "file_extension": ".py",
   "mimetype": "text/x-python",
   "name": "python",
   "nbconvert_exporter": "python",
   "pygments_lexer": "ipython3",
   "version": "3.10.10"
  },
  "papermill": {
   "default_parameters": {},
   "duration": 1666.061538,
   "end_time": "2023-06-26T13:06:02.370881",
   "environment_variables": {},
   "exception": null,
   "input_path": "__notebook__.ipynb",
   "output_path": "__notebook__.ipynb",
   "parameters": {},
   "start_time": "2023-06-26T12:38:16.309343",
   "version": "2.4.0"
  }
 },
 "nbformat": 4,
 "nbformat_minor": 5
}
