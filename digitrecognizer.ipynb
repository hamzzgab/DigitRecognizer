{
 "cells": [
  {
   "cell_type": "code",
   "execution_count": 1,
   "id": "6494a63d",
   "metadata": {
    "execution": {
     "iopub.execute_input": "2023-06-26T11:36:56.577326Z",
     "iopub.status.busy": "2023-06-26T11:36:56.576372Z",
     "iopub.status.idle": "2023-06-26T11:37:05.141337Z",
     "shell.execute_reply": "2023-06-26T11:37:05.140249Z"
    },
    "papermill": {
     "duration": 8.574578,
     "end_time": "2023-06-26T11:37:05.144399",
     "exception": false,
     "start_time": "2023-06-26T11:36:56.569821",
     "status": "completed"
    },
    "tags": []
   },
   "outputs": [
    {
     "name": "stderr",
     "output_type": "stream",
     "text": [
      "/opt/conda/lib/python3.10/site-packages/tensorflow_io/python/ops/__init__.py:98: UserWarning: unable to load libtensorflow_io_plugins.so: unable to open file: libtensorflow_io_plugins.so, from paths: ['/opt/conda/lib/python3.10/site-packages/tensorflow_io/python/ops/libtensorflow_io_plugins.so']\n",
      "caused by: ['/opt/conda/lib/python3.10/site-packages/tensorflow_io/python/ops/libtensorflow_io_plugins.so: undefined symbol: _ZN3tsl6StatusC1EN10tensorflow5error4CodeESt17basic_string_viewIcSt11char_traitsIcEENS_14SourceLocationE']\n",
      "  warnings.warn(f\"unable to load libtensorflow_io_plugins.so: {e}\")\n",
      "/opt/conda/lib/python3.10/site-packages/tensorflow_io/python/ops/__init__.py:104: UserWarning: file system plugins are not loaded: unable to open file: libtensorflow_io.so, from paths: ['/opt/conda/lib/python3.10/site-packages/tensorflow_io/python/ops/libtensorflow_io.so']\n",
      "caused by: ['/opt/conda/lib/python3.10/site-packages/tensorflow_io/python/ops/libtensorflow_io.so: undefined symbol: _ZTVN10tensorflow13GcsFileSystemE']\n",
      "  warnings.warn(f\"file system plugins are not loaded: {e}\")\n"
     ]
    }
   ],
   "source": [
    "import math\n",
    "import pandas as pd\n",
    "import numpy as np\n",
    "\n",
    "from pathlib import Path\n",
    "\n",
    "import matplotlib.pyplot as plt\n",
    "\n",
    "import keras"
   ]
  },
  {
   "cell_type": "code",
   "execution_count": 2,
   "id": "65eaa8b2",
   "metadata": {
    "execution": {
     "iopub.execute_input": "2023-06-26T11:37:05.156383Z",
     "iopub.status.busy": "2023-06-26T11:37:05.155336Z",
     "iopub.status.idle": "2023-06-26T11:37:05.160386Z",
     "shell.execute_reply": "2023-06-26T11:37:05.159303Z"
    },
    "papermill": {
     "duration": 0.013207,
     "end_time": "2023-06-26T11:37:05.162827",
     "exception": false,
     "start_time": "2023-06-26T11:37:05.149620",
     "status": "completed"
    },
    "tags": []
   },
   "outputs": [],
   "source": [
    "cwd = Path('/kaggle/input')\n",
    "DATASET = cwd / Path('digit-recognizer')"
   ]
  },
  {
   "cell_type": "code",
   "execution_count": 3,
   "id": "b6553b5c",
   "metadata": {
    "execution": {
     "iopub.execute_input": "2023-06-26T11:37:05.173536Z",
     "iopub.status.busy": "2023-06-26T11:37:05.173234Z",
     "iopub.status.idle": "2023-06-26T11:37:11.256903Z",
     "shell.execute_reply": "2023-06-26T11:37:11.254889Z"
    },
    "papermill": {
     "duration": 6.091451,
     "end_time": "2023-06-26T11:37:11.259100",
     "exception": false,
     "start_time": "2023-06-26T11:37:05.167649",
     "status": "completed"
    },
    "tags": []
   },
   "outputs": [
    {
     "name": "stdout",
     "output_type": "stream",
     "text": [
      "----------DATA-READ----------\n",
      "X Train: (42000, 28, 28, 1)\n",
      "X Test:  (28000, 28, 28, 1)\n",
      "-----------------------------\n",
      "Max Val: 255\n",
      "Min Val: 0\n",
      "----------NORMALISED---------\n",
      "Max Val: 1.0\n",
      "Min Val: 0.0\n"
     ]
    }
   ],
   "source": [
    "train_df = pd.read_csv(str(DATASET) + '/train.csv')\n",
    "test_df = pd.read_csv(str(DATASET) + '/test.csv')\n",
    "test_df_answers = pd.read_csv(str(DATASET) + '/sample_submission.csv')\n",
    "\n",
    "X_train, y_train = train_df.iloc[:, 1:], train_df.iloc[:, 0]\n",
    "X_test = test_df\n",
    "\n",
    "X_train = np.array(X_train).reshape(len(X_train), 28, 28, 1)\n",
    "X_test = np.array(X_test).reshape(len(X_test), 28, 28, 1)\n",
    "\n",
    "print(\"-\"*10+\"DATA-READ\"+\"-\"*10)\n",
    "print(\"X Train: {}\\nX Test:  {}\".format(X_train.shape, X_test.shape))\n",
    "\n",
    "print(\"-\"*29)\n",
    "print(\"Max Val: {}\\nMin Val: {}\".format(X_train.max(), X_train.min()))\n",
    "\n",
    "X_train = X_train.astype('float32') / 255.0\n",
    "X_test = X_test.astype('float32') / 255.0\n",
    "\n",
    "print(\"-\"*10+\"NORMALISED\"+\"-\"*9)\n",
    "print(\"Max Val: {}\\nMin Val: {}\".format(X_train.max(), X_train.min()))\n",
    "\n",
    "\n",
    "y_train = keras.utils.to_categorical(y_train, num_classes=10)"
   ]
  },
  {
   "cell_type": "code",
   "execution_count": 4,
   "id": "9d677542",
   "metadata": {
    "execution": {
     "iopub.execute_input": "2023-06-26T11:37:11.271739Z",
     "iopub.status.busy": "2023-06-26T11:37:11.270085Z",
     "iopub.status.idle": "2023-06-26T11:37:11.563464Z",
     "shell.execute_reply": "2023-06-26T11:37:11.562464Z"
    },
    "papermill": {
     "duration": 0.301686,
     "end_time": "2023-06-26T11:37:11.565634",
     "exception": false,
     "start_time": "2023-06-26T11:37:11.263948",
     "status": "completed"
    },
    "tags": []
   },
   "outputs": [
    {
     "data": {
      "image/png": "[encoded data removed]",
      "text/plain": [
       "<Figure size 640x480 with 1 Axes>"
      ]
     },
     "metadata": {},
     "output_type": "display_data"
    }
   ],
   "source": [
    "idx = np.random.randint(0, X_train.shape[0])\n",
    "plt.imshow(X_train[idx], cmap='gray_r')\n",
    "plt.title(np.argmax(y_train[idx]), fontsize=18)\n",
    "plt.show();"
   ]
  },
  {
   "cell_type": "code",
   "execution_count": 5,
   "id": "1af6066f",
   "metadata": {
    "execution": {
     "iopub.execute_input": "2023-06-26T11:37:11.579385Z",
     "iopub.status.busy": "2023-06-26T11:37:11.577574Z",
     "iopub.status.idle": "2023-06-26T11:37:11.598727Z",
     "shell.execute_reply": "2023-06-26T11:37:11.597694Z"
    },
    "papermill": {
     "duration": 0.029742,
     "end_time": "2023-06-26T11:37:11.600864",
     "exception": false,
     "start_time": "2023-06-26T11:37:11.571122",
     "status": "completed"
    },
    "tags": []
   },
   "outputs": [],
   "source": [
    "def variational_batch_norm():\n",
    "    model = keras.models.Sequential([\n",
    "    keras.layers.Conv2D(filters=32, kernel_size=3,\n",
    "                           activation=\"relu\", padding='same',\n",
    "                           input_shape=input_shape),\n",
    "    keras.layers.Conv2D(32, 3, activation=\"relu\", padding='same'),\n",
    "    keras.layers.BatchNormalization(axis=-1),\n",
    "    keras.layers.MaxPooling2D(2),\n",
    "    keras.layers.Dropout(0.1),\n",
    "\n",
    "    keras.layers.Conv2D(64, 3, activation=\"relu\", padding='same'),\n",
    "    keras.layers.Conv2D(64, 3, activation=\"relu\", padding='same'),\n",
    "    keras.layers.BatchNormalization(axis=-1),\n",
    "    keras.layers.MaxPooling2D(2),\n",
    "    keras.layers.Dropout(0.2),\n",
    "\n",
    "    keras.layers.Conv2D(128, 3, activation=\"relu\", padding='same'),\n",
    "    keras.layers.Conv2D(128, 3, activation=\"relu\", padding='same'),\n",
    "    keras.layers.BatchNormalization(axis=-1),\n",
    "    keras.layers.MaxPooling2D(2),\n",
    "    keras.layers.Dropout(0.3),\n",
    "        \n",
    "    keras.layers.Conv2D(256, 3, activation=\"relu\", padding='same'),\n",
    "    keras.layers.Conv2D(256, 3, activation=\"relu\", padding='same'),\n",
    "    keras.layers.BatchNormalization(axis=-1),\n",
    "    keras.layers.MaxPooling2D(2),\n",
    "    keras.layers.Dropout(0.4),\n",
    "        \n",
    "    keras.layers.Flatten(),\n",
    "    keras.layers.Dense(128, activation='relu'),\n",
    "    keras.layers.BatchNormalization(),\n",
    "    keras.layers.Dropout(0.5),\n",
    "    keras.layers.Dense(len(CLASS_NAMES), activation=\"softmax\"),\n",
    "    ], name=\"variational_batch_norm\")\n",
    "\n",
    "    return model\n",
    "def conv_layer():\n",
    "    model = keras.models.Sequential([\n",
    "        keras.layers.Conv2D(filters=32, kernel_size=3, activation='relu', padding='same',\n",
    "                            input_shape=input_shape),\n",
    "        keras.layers.Conv2D(filters=32, kernel_size=3, activation='relu', padding='same'),\n",
    "        keras.layers.MaxPooling2D(pool_size=2),\n",
    "        keras.layers.BatchNormalization(axis=-1),\n",
    "        keras.layers.Dropout(0.1),\n",
    "\n",
    "        keras.layers.Conv2D(filters=64, kernel_size=3, activation='relu', padding='same'),\n",
    "        keras.layers.Conv2D(filters=64, kernel_size=3, activation='relu', padding='same'),\n",
    "        keras.layers.MaxPooling2D(pool_size=2),\n",
    "        keras.layers.BatchNormalization(axis=-1),\n",
    "        keras.layers.Dropout(0.1),\n",
    "\n",
    "        keras.layers.Conv2D(filters=128, kernel_size=3, activation='relu', padding='same'),\n",
    "        keras.layers.Conv2D(filters=128, kernel_size=3, activation='relu', padding='same'),\n",
    "        keras.layers.MaxPooling2D(pool_size=2),\n",
    "        keras.layers.BatchNormalization(axis=-1),\n",
    "        keras.layers.Dropout(0.1),\n",
    "\n",
    "        keras.layers.Conv2D(filters=256, kernel_size=3, activation='relu', padding='same'),\n",
    "        keras.layers.Conv2D(filters=256, kernel_size=3, activation='relu', padding='same'),\n",
    "        keras.layers.MaxPooling2D(pool_size=2),\n",
    "        keras.layers.BatchNormalization(axis=-1),\n",
    "        keras.layers.Dropout(0.1),\n",
    "\n",
    "        keras.layers.Flatten(),\n",
    "        keras.layers.Dense(512, activation='relu'),\n",
    "        keras.layers.BatchNormalization(axis=-1),\n",
    "        keras.layers.Dropout(0.25),        \n",
    "        \n",
    "        keras.layers.Dense(128, activation='relu'),\n",
    "        keras.layers.BatchNormalization(axis=-1),\n",
    "        keras.layers.Dropout(0.5),\n",
    "        \n",
    "        keras.layers.Dense(10, activation='softmax'),        \n",
    "    ])\n",
    "    return model"
   ]
  },
  {
   "cell_type": "code",
   "execution_count": 6,
   "id": "0eec7df7",
   "metadata": {
    "execution": {
     "iopub.execute_input": "2023-06-26T11:37:11.612151Z",
     "iopub.status.busy": "2023-06-26T11:37:11.611859Z",
     "iopub.status.idle": "2023-06-26T11:37:16.546200Z",
     "shell.execute_reply": "2023-06-26T11:37:16.545137Z"
    },
    "papermill": {
     "duration": 4.943172,
     "end_time": "2023-06-26T11:37:16.549098",
     "exception": false,
     "start_time": "2023-06-26T11:37:11.605926",
     "status": "completed"
    },
    "tags": []
   },
   "outputs": [],
   "source": [
    "input_shape = (28, 28, 1)\n",
    "model = conv_layer()"
   ]
  },
  {
   "cell_type": "code",
   "execution_count": 7,
   "id": "da8e4d36",
   "metadata": {
    "execution": {
     "iopub.execute_input": "2023-06-26T11:37:16.562383Z",
     "iopub.status.busy": "2023-06-26T11:37:16.562066Z",
     "iopub.status.idle": "2023-06-26T11:37:16.578315Z",
     "shell.execute_reply": "2023-06-26T11:37:16.577424Z"
    },
    "papermill": {
     "duration": 0.025518,
     "end_time": "2023-06-26T11:37:16.580565",
     "exception": false,
     "start_time": "2023-06-26T11:37:16.555047",
     "status": "completed"
    },
    "tags": []
   },
   "outputs": [],
   "source": [
    "model.compile(optimizer=keras.optimizers.Adam(learning_rate=0.001), \n",
    "              loss='categorical_crossentropy', \n",
    "              metrics=['accuracy'])"
   ]
  },
  {
   "cell_type": "code",
   "execution_count": 8,
   "id": "d70e1bb1",
   "metadata": {
    "execution": {
     "iopub.execute_input": "2023-06-26T11:37:16.592272Z",
     "iopub.status.busy": "2023-06-26T11:37:16.591980Z",
     "iopub.status.idle": "2023-06-26T11:37:16.598696Z",
     "shell.execute_reply": "2023-06-26T11:37:16.597857Z"
    },
    "papermill": {
     "duration": 0.01486,
     "end_time": "2023-06-26T11:37:16.600692",
     "exception": false,
     "start_time": "2023-06-26T11:37:16.585832",
     "status": "completed"
    },
    "tags": []
   },
   "outputs": [],
   "source": [
    "def cosine_annealing(epoch, initial_lr, total_epochs):\n",
    "    lr = 0.5 * initial_lr * (1 + math.cos(math.pi * epoch / total_epochs))\n",
    "    return lr"
   ]
  },
  {
   "cell_type": "code",
   "execution_count": 9,
   "id": "c85c4375",
   "metadata": {
    "execution": {
     "iopub.execute_input": "2023-06-26T11:37:16.611470Z",
     "iopub.status.busy": "2023-06-26T11:37:16.611198Z",
     "iopub.status.idle": "2023-06-26T11:37:16.615338Z",
     "shell.execute_reply": "2023-06-26T11:37:16.614302Z"
    },
    "papermill": {
     "duration": 0.012244,
     "end_time": "2023-06-26T11:37:16.617732",
     "exception": false,
     "start_time": "2023-06-26T11:37:16.605488",
     "status": "completed"
    },
    "tags": []
   },
   "outputs": [],
   "source": [
    "epochs = 50\n",
    "learning_rate = 0.001\n",
    "# reduce_lr = keras.callbacks.LearningRateScheduler(lambda epoch: cosine_annealing(epoch, learning_rate, epochs))\n",
    "# early_stop = keras.callbacks.EarlyStopping(monitor='accuracy', patience=3, verbose=1)"
   ]
  },
  {
   "cell_type": "code",
   "execution_count": 10,
   "id": "0941828e",
   "metadata": {
    "execution": {
     "iopub.execute_input": "2023-06-26T11:37:16.628160Z",
     "iopub.status.busy": "2023-06-26T11:37:16.627902Z",
     "iopub.status.idle": "2023-06-26T11:43:40.618284Z",
     "shell.execute_reply": "2023-06-26T11:43:40.617269Z"
    },
    "papermill": {
     "duration": 383.998331,
     "end_time": "2023-06-26T11:43:40.620732",
     "exception": false,
     "start_time": "2023-06-26T11:37:16.622401",
     "status": "completed"
    },
    "tags": []
   },
   "outputs": [
    {
     "name": "stdout",
     "output_type": "stream",
     "text": [
      "Epoch 1/50\n"
     ]
    },
    {
     "name": "stderr",
     "output_type": "stream",
     "text": [
      "2023-06-26 11:37:18.561053: E tensorflow/core/grappler/optimizers/meta_optimizer.cc:954] layout failed: INVALID_ARGUMENT: Size of values 0 does not match size of permutation 4 @ fanin shape insequential/dropout/dropout/SelectV2-2-TransposeNHWCToNCHW-LayoutOptimizer\n"
     ]
    },
    {
     "name": "stdout",
     "output_type": "stream",
     "text": [
      "657/657 [==============================] - 17s 11ms/step - loss: 0.2286 - accuracy: 0.9320\n",
      "Epoch 2/50\n",
      "657/657 [==============================] - 7s 10ms/step - loss: 0.0775 - accuracy: 0.9775\n",
      "Epoch 3/50\n",
      "657/657 [==============================] - 7s 11ms/step - loss: 0.0557 - accuracy: 0.9839\n",
      "Epoch 4/50\n",
      "657/657 [==============================] - 7s 10ms/step - loss: 0.0502 - accuracy: 0.9857\n",
      "Epoch 5/50\n",
      "657/657 [==============================] - 7s 10ms/step - loss: 0.0413 - accuracy: 0.9891\n",
      "Epoch 6/50\n",
      "657/657 [==============================] - 7s 10ms/step - loss: 0.0376 - accuracy: 0.9896\n",
      "Epoch 7/50\n",
      "657/657 [==============================] - 7s 10ms/step - loss: 0.0363 - accuracy: 0.9899\n",
      "Epoch 8/50\n",
      "657/657 [==============================] - 7s 11ms/step - loss: 0.0325 - accuracy: 0.9910\n",
      "Epoch 9/50\n",
      "657/657 [==============================] - 7s 10ms/step - loss: 0.0328 - accuracy: 0.9910\n",
      "Epoch 10/50\n",
      "657/657 [==============================] - 7s 10ms/step - loss: 0.0276 - accuracy: 0.9926\n",
      "Epoch 11/50\n",
      "657/657 [==============================] - 7s 10ms/step - loss: 0.0279 - accuracy: 0.9924\n",
      "Epoch 12/50\n",
      "657/657 [==============================] - 7s 11ms/step - loss: 0.0241 - accuracy: 0.9937\n",
      "Epoch 13/50\n",
      "657/657 [==============================] - 7s 10ms/step - loss: 0.0248 - accuracy: 0.9929\n",
      "Epoch 14/50\n",
      "657/657 [==============================] - 7s 10ms/step - loss: 0.0236 - accuracy: 0.9938\n",
      "Epoch 15/50\n",
      "657/657 [==============================] - 7s 10ms/step - loss: 0.0201 - accuracy: 0.9948\n",
      "Epoch 16/50\n",
      "657/657 [==============================] - 7s 10ms/step - loss: 0.0202 - accuracy: 0.9947\n",
      "Epoch 17/50\n",
      "657/657 [==============================] - 7s 11ms/step - loss: 0.0155 - accuracy: 0.9958\n",
      "Epoch 18/50\n",
      "657/657 [==============================] - 7s 10ms/step - loss: 0.0197 - accuracy: 0.9951\n",
      "Epoch 19/50\n",
      "657/657 [==============================] - 7s 10ms/step - loss: 0.0133 - accuracy: 0.9963\n",
      "Epoch 20/50\n",
      "657/657 [==============================] - 7s 10ms/step - loss: 0.0150 - accuracy: 0.9961\n",
      "Epoch 21/50\n",
      "657/657 [==============================] - 7s 10ms/step - loss: 0.0161 - accuracy: 0.9955\n",
      "Epoch 22/50\n",
      "657/657 [==============================] - 7s 11ms/step - loss: 0.0126 - accuracy: 0.9962\n",
      "Epoch 23/50\n",
      "657/657 [==============================] - 7s 10ms/step - loss: 0.0094 - accuracy: 0.9975\n",
      "Epoch 24/50\n",
      "657/657 [==============================] - 7s 10ms/step - loss: 0.0117 - accuracy: 0.9971\n",
      "Epoch 25/50\n",
      "657/657 [==============================] - 7s 10ms/step - loss: 0.0114 - accuracy: 0.9970\n",
      "Epoch 26/50\n",
      "657/657 [==============================] - 7s 11ms/step - loss: 0.0110 - accuracy: 0.9969\n",
      "Epoch 27/50\n",
      "657/657 [==============================] - 7s 10ms/step - loss: 0.0095 - accuracy: 0.9974\n",
      "Epoch 28/50\n",
      "657/657 [==============================] - 7s 10ms/step - loss: 0.0108 - accuracy: 0.9974\n",
      "Epoch 29/50\n",
      "657/657 [==============================] - 7s 10ms/step - loss: 0.0086 - accuracy: 0.9977\n",
      "Epoch 30/50\n",
      "657/657 [==============================] - 7s 10ms/step - loss: 0.0087 - accuracy: 0.9977\n",
      "Epoch 31/50\n",
      "657/657 [==============================] - 7s 11ms/step - loss: 0.0088 - accuracy: 0.9975\n",
      "Epoch 32/50\n",
      "657/657 [==============================] - 7s 10ms/step - loss: 0.0085 - accuracy: 0.9980\n",
      "Epoch 33/50\n",
      "657/657 [==============================] - 7s 10ms/step - loss: 0.0074 - accuracy: 0.9982\n",
      "Epoch 34/50\n",
      "657/657 [==============================] - 7s 10ms/step - loss: 0.0060 - accuracy: 0.9983\n",
      "Epoch 35/50\n",
      "657/657 [==============================] - 7s 11ms/step - loss: 0.0077 - accuracy: 0.9978\n",
      "Epoch 36/50\n",
      "657/657 [==============================] - 7s 10ms/step - loss: 0.0065 - accuracy: 0.9985\n",
      "Epoch 37/50\n",
      "657/657 [==============================] - 7s 10ms/step - loss: 0.0081 - accuracy: 0.9981\n",
      "Epoch 38/50\n",
      "657/657 [==============================] - 7s 10ms/step - loss: 0.0055 - accuracy: 0.9985\n",
      "Epoch 39/50\n",
      "657/657 [==============================] - 7s 10ms/step - loss: 0.0080 - accuracy: 0.9982\n",
      "Epoch 40/50\n",
      "657/657 [==============================] - 7s 11ms/step - loss: 0.0050 - accuracy: 0.9987\n",
      "Epoch 41/50\n",
      "657/657 [==============================] - 7s 10ms/step - loss: 0.0064 - accuracy: 0.9983\n",
      "Epoch 42/50\n",
      "657/657 [==============================] - 7s 10ms/step - loss: 0.0056 - accuracy: 0.9983\n",
      "Epoch 43/50\n",
      "657/657 [==============================] - 7s 11ms/step - loss: 0.0050 - accuracy: 0.9985\n",
      "Epoch 44/50\n",
      "657/657 [==============================] - 7s 10ms/step - loss: 0.0054 - accuracy: 0.9984\n",
      "Epoch 45/50\n",
      "657/657 [==============================] - 7s 11ms/step - loss: 0.0067 - accuracy: 0.9983\n",
      "Epoch 46/50\n",
      "657/657 [==============================] - 7s 10ms/step - loss: 0.0027 - accuracy: 0.9992\n",
      "Epoch 47/50\n",
      "657/657 [==============================] - 7s 10ms/step - loss: 0.0047 - accuracy: 0.9986\n",
      "Epoch 48/50\n",
      "657/657 [==============================] - 7s 10ms/step - loss: 0.0034 - accuracy: 0.9989\n",
      "Epoch 49/50\n",
      "657/657 [==============================] - 7s 11ms/step - loss: 0.0064 - accuracy: 0.9985\n",
      "Epoch 50/50\n",
      "657/657 [==============================] - 7s 10ms/step - loss: 0.0044 - accuracy: 0.9987\n"
     ]
    }
   ],
   "source": [
    "history = model.fit(x=X_train, y=y_train, \n",
    "                    epochs=epochs, batch_size=64,\n",
    "#                     callbacks=[reduce_lr], \n",
    "                    verbose=1)"
   ]
  },
  {
   "cell_type": "code",
   "execution_count": 11,
   "id": "6f1bede0",
   "metadata": {
    "execution": {
     "iopub.execute_input": "2023-06-26T11:43:41.731436Z",
     "iopub.status.busy": "2023-06-26T11:43:41.731073Z",
     "iopub.status.idle": "2023-06-26T11:43:42.204263Z",
     "shell.execute_reply": "2023-06-26T11:43:42.203322Z"
    },
    "papermill": {
     "duration": 1.016436,
     "end_time": "2023-06-26T11:43:42.206698",
     "exception": false,
     "start_time": "2023-06-26T11:43:41.190262",
     "status": "completed"
    },
    "tags": []
   },
   "outputs": [
    {
     "data": {
      "image/png": "[encoded data removed]",
      "text/plain": [
       "<Figure size 1000x800 with 3 Axes>"
      ]
     },
     "metadata": {},
     "output_type": "display_data"
    }
   ],
   "source": [
    "fig, axes = plt.subplots(3, 1, figsize=(10, 8))\n",
    "\n",
    "axes[0].plot(history.history['loss'])\n",
    "axes[1].plot(history.history['accuracy'])\n",
    "# axes[2].plot(history.history['lr'])\n",
    "\n",
    "plt.show();"
   ]
  },
  {
   "cell_type": "code",
   "execution_count": 12,
   "id": "50699aa9",
   "metadata": {
    "execution": {
     "iopub.execute_input": "2023-06-26T11:43:43.239471Z",
     "iopub.status.busy": "2023-06-26T11:43:43.239101Z",
     "iopub.status.idle": "2023-06-26T11:43:46.765562Z",
     "shell.execute_reply": "2023-06-26T11:43:46.764397Z"
    },
    "papermill": {
     "duration": 4.032916,
     "end_time": "2023-06-26T11:43:46.768252",
     "exception": false,
     "start_time": "2023-06-26T11:43:42.735336",
     "status": "completed"
    },
    "tags": []
   },
   "outputs": [
    {
     "name": "stdout",
     "output_type": "stream",
     "text": [
      "875/875 [==============================] - 3s 3ms/step\n"
     ]
    }
   ],
   "source": [
    "result = model.predict(X_test, verbose=1)\n",
    "result = result.argmax(axis=1)"
   ]
  },
  {
   "cell_type": "code",
   "execution_count": 13,
   "id": "ef07222d",
   "metadata": {
    "execution": {
     "iopub.execute_input": "2023-06-26T11:43:47.854866Z",
     "iopub.status.busy": "2023-06-26T11:43:47.854487Z",
     "iopub.status.idle": "2023-06-26T11:43:47.954895Z",
     "shell.execute_reply": "2023-06-26T11:43:47.953901Z"
    },
    "papermill": {
     "duration": 0.615232,
     "end_time": "2023-06-26T11:43:47.957307",
     "exception": false,
     "start_time": "2023-06-26T11:43:47.342075",
     "status": "completed"
    },
    "tags": []
   },
   "outputs": [],
   "source": [
    "ans = {\n",
    "    'Label':[int(x) for x in result]\n",
    "}\n",
    "ans=pd.DataFrame(ans)\n",
    "\n",
    "ImageId = {\n",
    "    'ImageId': [i for i in range(1,28001)]\n",
    "}\n",
    "ImageId = pd.DataFrame(data=ImageId)\n",
    "\n",
    "submission=pd.concat((ImageId, ans),axis=1)\n",
    "submission.to_csv('submission.csv',index=False)"
   ]
  },
  {
   "cell_type": "code",
   "execution_count": null,
   "id": "c11b208b",
   "metadata": {
    "papermill": {
     "duration": 0.50701,
     "end_time": "2023-06-26T11:43:48.964738",
     "exception": false,
     "start_time": "2023-06-26T11:43:48.457728",
     "status": "completed"
    },
    "tags": []
   },
   "outputs": [],
   "source": []
  },
  {
   "cell_type": "code",
   "execution_count": null,
   "id": "4ee3337d",
   "metadata": {
    "papermill": {
     "duration": 0.55143,
     "end_time": "2023-06-26T11:43:50.008231",
     "exception": false,
     "start_time": "2023-06-26T11:43:49.456801",
     "status": "completed"
    },
    "tags": []
   },
   "outputs": [],
   "source": []
  }
 ],
 "metadata": {
  "kernelspec": {
   "display_name": "Python 3",
   "language": "python",
   "name": "python3"
  },
  "language_info": {
   "codemirror_mode": {
    "name": "ipython",
    "version": 3
   },
   "file_extension": ".py",
   "mimetype": "text/x-python",
   "name": "python",
   "nbconvert_exporter": "python",
   "pygments_lexer": "ipython3",
   "version": "3.10.10"
  },
  "papermill": {
   "default_parameters": {},
   "duration": 429.181612,
   "end_time": "2023-06-26T11:43:54.286729",
   "environment_variables": {},
   "exception": null,
   "input_path": "__notebook__.ipynb",
   "output_path": "__notebook__.ipynb",
   "parameters": {},
   "start_time": "2023-06-26T11:36:45.105117",
   "version": "2.4.0"
  }
 },
 "nbformat": 4,
 "nbformat_minor": 5
}
